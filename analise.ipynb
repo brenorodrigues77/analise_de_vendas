{
 "cells": [
  {
   "cell_type": "markdown",
   "id": "12ef3ac8",
   "metadata": {},
   "source": [
    "analise de dados de vendas da loja zara"
   ]
  },
  {
   "cell_type": "code",
   "execution_count": 8,
   "id": "c87e4bae",
   "metadata": {},
   "outputs": [
    {
     "data": {
      "text/html": [
       "<div>\n",
       "<style scoped>\n",
       "    .dataframe tbody tr th:only-of-type {\n",
       "        vertical-align: middle;\n",
       "    }\n",
       "\n",
       "    .dataframe tbody tr th {\n",
       "        vertical-align: top;\n",
       "    }\n",
       "\n",
       "    .dataframe thead th {\n",
       "        text-align: right;\n",
       "    }\n",
       "</style>\n",
       "<table border=\"1\" class=\"dataframe\">\n",
       "  <thead>\n",
       "    <tr style=\"text-align: right;\">\n",
       "      <th></th>\n",
       "      <th>Product ID</th>\n",
       "      <th>Product Position</th>\n",
       "      <th>Promotion</th>\n",
       "      <th>Product Category</th>\n",
       "      <th>Seasonal</th>\n",
       "      <th>Sales Volume</th>\n",
       "      <th>brand</th>\n",
       "      <th>url</th>\n",
       "      <th>sku</th>\n",
       "      <th>name</th>\n",
       "      <th>description</th>\n",
       "      <th>price</th>\n",
       "      <th>currency</th>\n",
       "      <th>scraped_at</th>\n",
       "      <th>terms</th>\n",
       "      <th>section</th>\n",
       "    </tr>\n",
       "  </thead>\n",
       "  <tbody>\n",
       "    <tr>\n",
       "      <th>0</th>\n",
       "      <td>185102</td>\n",
       "      <td>Aisle</td>\n",
       "      <td>No</td>\n",
       "      <td>Clothing</td>\n",
       "      <td>No</td>\n",
       "      <td>2823</td>\n",
       "      <td>Zara</td>\n",
       "      <td>https://www.zara.com/us/en/basic-puffer-jacket...</td>\n",
       "      <td>272145190-250-2</td>\n",
       "      <td>BASIC PUFFER JACKET</td>\n",
       "      <td>Puffer jacket made of tear-resistant ripstop f...</td>\n",
       "      <td>19.99</td>\n",
       "      <td>USD</td>\n",
       "      <td>2024-02-19T08:50:05.654618</td>\n",
       "      <td>jackets</td>\n",
       "      <td>MAN</td>\n",
       "    </tr>\n",
       "    <tr>\n",
       "      <th>1</th>\n",
       "      <td>188771</td>\n",
       "      <td>Aisle</td>\n",
       "      <td>No</td>\n",
       "      <td>Clothing</td>\n",
       "      <td>No</td>\n",
       "      <td>654</td>\n",
       "      <td>Zara</td>\n",
       "      <td>https://www.zara.com/us/en/tuxedo-jacket-p0889...</td>\n",
       "      <td>324052738-800-46</td>\n",
       "      <td>TUXEDO JACKET</td>\n",
       "      <td>Straight fit blazer. Pointed lapel collar and ...</td>\n",
       "      <td>169.00</td>\n",
       "      <td>USD</td>\n",
       "      <td>2024-02-19T08:50:06.590930</td>\n",
       "      <td>jackets</td>\n",
       "      <td>MAN</td>\n",
       "    </tr>\n",
       "  </tbody>\n",
       "</table>\n",
       "</div>"
      ],
      "text/plain": [
       "   Product ID Product Position Promotion Product Category Seasonal  \\\n",
       "0      185102            Aisle        No         Clothing       No   \n",
       "1      188771            Aisle        No         Clothing       No   \n",
       "\n",
       "   Sales Volume brand                                                url  \\\n",
       "0          2823  Zara  https://www.zara.com/us/en/basic-puffer-jacket...   \n",
       "1           654  Zara  https://www.zara.com/us/en/tuxedo-jacket-p0889...   \n",
       "\n",
       "                sku                 name  \\\n",
       "0   272145190-250-2  BASIC PUFFER JACKET   \n",
       "1  324052738-800-46        TUXEDO JACKET   \n",
       "\n",
       "                                         description   price currency  \\\n",
       "0  Puffer jacket made of tear-resistant ripstop f...   19.99      USD   \n",
       "1  Straight fit blazer. Pointed lapel collar and ...  169.00      USD   \n",
       "\n",
       "                   scraped_at    terms section  \n",
       "0  2024-02-19T08:50:05.654618  jackets     MAN  \n",
       "1  2024-02-19T08:50:06.590930  jackets     MAN  "
      ]
     },
     "execution_count": 8,
     "metadata": {},
     "output_type": "execute_result"
    }
   ],
   "source": [
    "import pandas as pd\n",
    "\n",
    "df = pd.read_csv(\"./zara_sales_analysis/Zara_Sales_Analysis.csv\", sep=\";\")\n",
    "df.head(2)"
   ]
  },
  {
   "cell_type": "markdown",
   "id": "7ba5370c",
   "metadata": {},
   "source": [
    "informações de colunas e tipos de colunas."
   ]
  },
  {
   "cell_type": "code",
   "execution_count": 9,
   "id": "8067276d",
   "metadata": {},
   "outputs": [
    {
     "name": "stdout",
     "output_type": "stream",
     "text": [
      "<class 'pandas.core.frame.DataFrame'>\n",
      "RangeIndex: 252 entries, 0 to 251\n",
      "Data columns (total 16 columns):\n",
      " #   Column            Non-Null Count  Dtype  \n",
      "---  ------            --------------  -----  \n",
      " 0   Product ID        252 non-null    int64  \n",
      " 1   Product Position  252 non-null    object \n",
      " 2   Promotion         252 non-null    object \n",
      " 3   Product Category  252 non-null    object \n",
      " 4   Seasonal          252 non-null    object \n",
      " 5   Sales Volume      252 non-null    int64  \n",
      " 6   brand             252 non-null    object \n",
      " 7   url               252 non-null    object \n",
      " 8   sku               252 non-null    object \n",
      " 9   name              251 non-null    object \n",
      " 10  description       250 non-null    object \n",
      " 11  price             252 non-null    float64\n",
      " 12  currency          252 non-null    object \n",
      " 13  scraped_at        252 non-null    object \n",
      " 14  terms             252 non-null    object \n",
      " 15  section           252 non-null    object \n",
      "dtypes: float64(1), int64(2), object(13)\n",
      "memory usage: 31.6+ KB\n"
     ]
    }
   ],
   "source": [
    "df.info()"
   ]
  },
  {
   "cell_type": "markdown",
   "id": "5adc64ca",
   "metadata": {},
   "source": [
    "contagem de linhas nulas"
   ]
  },
  {
   "cell_type": "code",
   "execution_count": 10,
   "id": "1ee6f1d8",
   "metadata": {},
   "outputs": [
    {
     "data": {
      "text/plain": [
       "Product ID          0\n",
       "Product Position    0\n",
       "Promotion           0\n",
       "Product Category    0\n",
       "Seasonal            0\n",
       "Sales Volume        0\n",
       "brand               0\n",
       "url                 0\n",
       "sku                 0\n",
       "name                1\n",
       "description         2\n",
       "price               0\n",
       "currency            0\n",
       "scraped_at          0\n",
       "terms               0\n",
       "section             0\n",
       "dtype: int64"
      ]
     },
     "execution_count": 10,
     "metadata": {},
     "output_type": "execute_result"
    }
   ],
   "source": [
    "df.isnull().sum()"
   ]
  },
  {
   "cell_type": "markdown",
   "id": "d1e2d586",
   "metadata": {},
   "source": [
    "porcentagem das linhas vazias, de acordo com esse dado podemos tomar a decisão de excluir ou manter."
   ]
  },
  {
   "cell_type": "code",
   "execution_count": 24,
   "id": "24b1a0aa",
   "metadata": {},
   "outputs": [
    {
     "data": {
      "text/plain": [
       "description         0.79%\n",
       "name                0.40%\n",
       "Product ID          0.00%\n",
       "Product Position    0.00%\n",
       "Promotion           0.00%\n",
       "Product Category    0.00%\n",
       "Seasonal            0.00%\n",
       "Sales Volume        0.00%\n",
       "brand               0.00%\n",
       "url                 0.00%\n",
       "sku                 0.00%\n",
       "price               0.00%\n",
       "currency            0.00%\n",
       "scraped_at          0.00%\n",
       "terms               0.00%\n",
       "section             0.00%\n",
       "dtype: object"
      ]
     },
     "execution_count": 24,
     "metadata": {},
     "output_type": "execute_result"
    }
   ],
   "source": [
    "def porcentagem_nulos(value):\n",
    "    return f\"{100 * value:.2f}%\"\n",
    "(df.isna().sum() / len(df)).sort_values(ascending=False).apply(porcentagem_nulos)"
   ]
  }
 ],
 "metadata": {
  "kernelspec": {
   "display_name": "venv",
   "language": "python",
   "name": "python3"
  },
  "language_info": {
   "codemirror_mode": {
    "name": "ipython",
    "version": 3
   },
   "file_extension": ".py",
   "mimetype": "text/x-python",
   "name": "python",
   "nbconvert_exporter": "python",
   "pygments_lexer": "ipython3",
   "version": "3.8.5"
  }
 },
 "nbformat": 4,
 "nbformat_minor": 5
}
