{
 "cells": [
  {
   "cell_type": "markdown",
   "id": "12ef3ac8",
   "metadata": {},
   "source": [
    "analise de dados de vendas de supermercados de curitiba"
   ]
  },
  {
   "cell_type": "code",
   "execution_count": 11,
   "id": "c87e4bae",
   "metadata": {},
   "outputs": [
    {
     "data": {
      "text/html": [
       "<div>\n",
       "<style scoped>\n",
       "    .dataframe tbody tr th:only-of-type {\n",
       "        vertical-align: middle;\n",
       "    }\n",
       "\n",
       "    .dataframe tbody tr th {\n",
       "        vertical-align: top;\n",
       "    }\n",
       "\n",
       "    .dataframe thead th {\n",
       "        text-align: right;\n",
       "    }\n",
       "</style>\n",
       "<table border=\"1\" class=\"dataframe\">\n",
       "  <thead>\n",
       "    <tr style=\"text-align: right;\">\n",
       "      <th></th>\n",
       "      <th>data_pesquisa</th>\n",
       "      <th>id_empresa</th>\n",
       "      <th>rede</th>\n",
       "      <th>endereco_completo</th>\n",
       "      <th>codigo_categoria</th>\n",
       "      <th>id_produto</th>\n",
       "      <th>descricao</th>\n",
       "      <th>preco_regular</th>\n",
       "      <th>preco_atacado</th>\n",
       "      <th>preco_atacado_qtd</th>\n",
       "      <th>preco_promocao</th>\n",
       "      <th>preco_fidelidade</th>\n",
       "    </tr>\n",
       "  </thead>\n",
       "  <tbody>\n",
       "    <tr>\n",
       "      <th>0</th>\n",
       "      <td>2025-07-31</td>\n",
       "      <td>17.0</td>\n",
       "      <td>Agricer</td>\n",
       "      <td>Rua Izaac Ferreira da Cruz, 1440 - Pinheirinho...</td>\n",
       "      <td>5.0</td>\n",
       "      <td>2048</td>\n",
       "      <td>BACON SUÍNO -FRIGONOVAK -1 KG</td>\n",
       "      <td>34.99</td>\n",
       "      <td>0.0</td>\n",
       "      <td>0</td>\n",
       "      <td>0.0</td>\n",
       "      <td>0.0</td>\n",
       "    </tr>\n",
       "    <tr>\n",
       "      <th>1</th>\n",
       "      <td>2025-07-31</td>\n",
       "      <td>17.0</td>\n",
       "      <td>Agricer</td>\n",
       "      <td>Rua Izaac Ferreira da Cruz, 1440 - Pinheirinho...</td>\n",
       "      <td>5.0</td>\n",
       "      <td>2055</td>\n",
       "      <td>LINGUIÇA CALABRESA -FRIGONOVAK -1 KG</td>\n",
       "      <td>34.99</td>\n",
       "      <td>0.0</td>\n",
       "      <td>0</td>\n",
       "      <td>0.0</td>\n",
       "      <td>0.0</td>\n",
       "    </tr>\n",
       "    <tr>\n",
       "      <th>2</th>\n",
       "      <td>2025-07-31</td>\n",
       "      <td>17.0</td>\n",
       "      <td>Agricer</td>\n",
       "      <td>Rua Izaac Ferreira da Cruz, 1440 - Pinheirinho...</td>\n",
       "      <td>1.0</td>\n",
       "      <td>7891000352175</td>\n",
       "      <td>ACHOCOLATADO EM PÓ POTE -NESCAU -370 GR</td>\n",
       "      <td>8.75</td>\n",
       "      <td>0.0</td>\n",
       "      <td>0</td>\n",
       "      <td>0.0</td>\n",
       "      <td>0.0</td>\n",
       "    </tr>\n",
       "    <tr>\n",
       "      <th>3</th>\n",
       "      <td>2025-07-31</td>\n",
       "      <td>17.0</td>\n",
       "      <td>Agricer</td>\n",
       "      <td>Rua Izaac Ferreira da Cruz, 1440 - Pinheirinho...</td>\n",
       "      <td>1.0</td>\n",
       "      <td>7891962015620</td>\n",
       "      <td>BOLINHO RECHEADO SABORES  -BAUDUCCO -40 GR</td>\n",
       "      <td>2.69</td>\n",
       "      <td>0.0</td>\n",
       "      <td>0</td>\n",
       "      <td>0.0</td>\n",
       "      <td>0.0</td>\n",
       "    </tr>\n",
       "    <tr>\n",
       "      <th>4</th>\n",
       "      <td>2025-07-31</td>\n",
       "      <td>17.0</td>\n",
       "      <td>Agricer</td>\n",
       "      <td>Rua Izaac Ferreira da Cruz, 1440 - Pinheirinho...</td>\n",
       "      <td>1.0</td>\n",
       "      <td>7896016700149</td>\n",
       "      <td>CAFÉ A VÁCUO EXTRA FORTE -ALVORADA -500 GR</td>\n",
       "      <td>26.99</td>\n",
       "      <td>0.0</td>\n",
       "      <td>0</td>\n",
       "      <td>0.0</td>\n",
       "      <td>0.0</td>\n",
       "    </tr>\n",
       "  </tbody>\n",
       "</table>\n",
       "</div>"
      ],
      "text/plain": [
       "  data_pesquisa  id_empresa     rede  \\\n",
       "0    2025-07-31        17.0  Agricer   \n",
       "1    2025-07-31        17.0  Agricer   \n",
       "2    2025-07-31        17.0  Agricer   \n",
       "3    2025-07-31        17.0  Agricer   \n",
       "4    2025-07-31        17.0  Agricer   \n",
       "\n",
       "                                   endereco_completo  codigo_categoria  \\\n",
       "0  Rua Izaac Ferreira da Cruz, 1440 - Pinheirinho...               5.0   \n",
       "1  Rua Izaac Ferreira da Cruz, 1440 - Pinheirinho...               5.0   \n",
       "2  Rua Izaac Ferreira da Cruz, 1440 - Pinheirinho...               1.0   \n",
       "3  Rua Izaac Ferreira da Cruz, 1440 - Pinheirinho...               1.0   \n",
       "4  Rua Izaac Ferreira da Cruz, 1440 - Pinheirinho...               1.0   \n",
       "\n",
       "      id_produto                                   descricao  preco_regular  \\\n",
       "0           2048               BACON SUÍNO -FRIGONOVAK -1 KG          34.99   \n",
       "1           2055        LINGUIÇA CALABRESA -FRIGONOVAK -1 KG          34.99   \n",
       "2  7891000352175     ACHOCOLATADO EM PÓ POTE -NESCAU -370 GR           8.75   \n",
       "3  7891962015620  BOLINHO RECHEADO SABORES  -BAUDUCCO -40 GR           2.69   \n",
       "4  7896016700149  CAFÉ A VÁCUO EXTRA FORTE -ALVORADA -500 GR          26.99   \n",
       "\n",
       "   preco_atacado  preco_atacado_qtd  preco_promocao  preco_fidelidade  \n",
       "0            0.0                  0             0.0               0.0  \n",
       "1            0.0                  0             0.0               0.0  \n",
       "2            0.0                  0             0.0               0.0  \n",
       "3            0.0                  0             0.0               0.0  \n",
       "4            0.0                  0             0.0               0.0  "
      ]
     },
     "execution_count": 11,
     "metadata": {},
     "output_type": "execute_result"
    }
   ],
   "source": [
    "import pandas as pd\n",
    "\n",
    "df = pd.read_csv(\"./files/economia_curitiba.csv\", sep=\";\", encoding=\"latin-1\")\n",
    "df.head()"
   ]
  },
  {
   "cell_type": "markdown",
   "id": "7ba5370c",
   "metadata": {},
   "source": [
    "informações de colunas e tipos de colunas."
   ]
  },
  {
   "cell_type": "code",
   "execution_count": 2,
   "id": "8067276d",
   "metadata": {},
   "outputs": [
    {
     "name": "stdout",
     "output_type": "stream",
     "text": [
      "<class 'pandas.core.frame.DataFrame'>\n",
      "RangeIndex: 13592 entries, 0 to 13591\n",
      "Data columns (total 12 columns):\n",
      " #   Column             Non-Null Count  Dtype  \n",
      "---  ------             --------------  -----  \n",
      " 0   data_pesquisa      13592 non-null  object \n",
      " 1   id_empresa         12240 non-null  float64\n",
      " 2   rede               13592 non-null  object \n",
      " 3   endereco_completo  13592 non-null  object \n",
      " 4   codigo_categoria   13296 non-null  float64\n",
      " 5   id_produto         13592 non-null  int64  \n",
      " 6   descricao          13592 non-null  object \n",
      " 7   preco_regular      13592 non-null  float64\n",
      " 8   preco_atacado      13592 non-null  float64\n",
      " 9   preco_atacado_qtd  13592 non-null  int64  \n",
      " 10  preco_promocao     13592 non-null  float64\n",
      " 11  preco_fidelidade   13592 non-null  float64\n",
      "dtypes: float64(6), int64(2), object(4)\n",
      "memory usage: 1.2+ MB\n"
     ]
    }
   ],
   "source": [
    "df.info()"
   ]
  },
  {
   "cell_type": "markdown",
   "id": "5adc64ca",
   "metadata": {},
   "source": [
    "contagem de linhas nulas"
   ]
  },
  {
   "cell_type": "code",
   "execution_count": 3,
   "id": "1ee6f1d8",
   "metadata": {},
   "outputs": [
    {
     "data": {
      "text/plain": [
       "data_pesquisa           0\n",
       "id_empresa           1352\n",
       "rede                    0\n",
       "endereco_completo       0\n",
       "codigo_categoria      296\n",
       "id_produto              0\n",
       "descricao               0\n",
       "preco_regular           0\n",
       "preco_atacado           0\n",
       "preco_atacado_qtd       0\n",
       "preco_promocao          0\n",
       "preco_fidelidade        0\n",
       "dtype: int64"
      ]
     },
     "execution_count": 3,
     "metadata": {},
     "output_type": "execute_result"
    }
   ],
   "source": [
    "df.isnull().sum()"
   ]
  },
  {
   "cell_type": "markdown",
   "id": "d1e2d586",
   "metadata": {},
   "source": [
    "porcentagem das linhas vazias, de acordo com esse dado podemos tomar a decisão de excluir ou manter."
   ]
  },
  {
   "cell_type": "code",
   "execution_count": 4,
   "id": "24b1a0aa",
   "metadata": {},
   "outputs": [
    {
     "data": {
      "text/plain": [
       "id_empresa           9.95%\n",
       "codigo_categoria     2.18%\n",
       "data_pesquisa        0.00%\n",
       "rede                 0.00%\n",
       "endereco_completo    0.00%\n",
       "id_produto           0.00%\n",
       "descricao            0.00%\n",
       "preco_regular        0.00%\n",
       "preco_atacado        0.00%\n",
       "preco_atacado_qtd    0.00%\n",
       "preco_promocao       0.00%\n",
       "preco_fidelidade     0.00%\n",
       "dtype: object"
      ]
     },
     "execution_count": 4,
     "metadata": {},
     "output_type": "execute_result"
    }
   ],
   "source": [
    "def porcentagem_nulos(value):\n",
    "    return f\"{100 * value:.2f}%\"\n",
    "(df.isna().sum() / len(df)).sort_values(ascending=False).apply(porcentagem_nulos)"
   ]
  },
  {
   "cell_type": "code",
   "execution_count": 10,
   "id": "a27fe3db",
   "metadata": {},
   "outputs": [
    {
     "data": {
      "text/plain": [
       "rede       descricao                                            preco_regular\n",
       "Condor     MANTEIGA PRIMEIRA QUALIDADE COM SAL  -TIROL -200 GR  9.98             7\n",
       "           PIMENTÃO VERDE -1 KG                                 15.99            5\n",
       "           BISCOITO ÁGUA E SAL -ISABELA -350 GR                 5.09             5\n",
       "           MAMÃO FORMOSA -1 KG                                  8.99             5\n",
       "           ÁGUA MINERAL -OURO FINO -500 ML                      1.49             5\n",
       "                                                                                ..\n",
       "Festval    FARINHA DE TRIGO -( + ) BARATO -5 KG                 14.49            1\n",
       "                                                                20.98            1\n",
       "           FARINHA DE TRIGO -COAMO -1 KG                        4.59             1\n",
       "           FARINHA DE TRIGO -COAMO -5 KG                        20.99            1\n",
       "Zamprogna  ÓLEO DE SOJA -VITALIV -900 ML                        7.79             1\n",
       "Name: count, Length: 11556, dtype: int64"
      ]
     },
     "execution_count": 10,
     "metadata": {},
     "output_type": "execute_result"
    }
   ],
   "source": [
    "df[['rede','descricao','preco_regular']].value_counts()"
   ]
  },
  {
   "cell_type": "code",
   "execution_count": 23,
   "id": "3f28ab0f",
   "metadata": {},
   "outputs": [
    {
     "data": {
      "text/html": [
       "<div>\n",
       "<style scoped>\n",
       "    .dataframe tbody tr th:only-of-type {\n",
       "        vertical-align: middle;\n",
       "    }\n",
       "\n",
       "    .dataframe tbody tr th {\n",
       "        vertical-align: top;\n",
       "    }\n",
       "\n",
       "    .dataframe thead th {\n",
       "        text-align: right;\n",
       "    }\n",
       "</style>\n",
       "<table border=\"1\" class=\"dataframe\">\n",
       "  <thead>\n",
       "    <tr style=\"text-align: right;\">\n",
       "      <th></th>\n",
       "      <th>data_pesquisa</th>\n",
       "      <th>id_empresa</th>\n",
       "      <th>rede</th>\n",
       "      <th>endereco_completo</th>\n",
       "      <th>codigo_categoria</th>\n",
       "      <th>id_produto</th>\n",
       "      <th>descricao</th>\n",
       "      <th>preco_regular</th>\n",
       "      <th>preco_atacado</th>\n",
       "      <th>preco_atacado_qtd</th>\n",
       "      <th>preco_promocao</th>\n",
       "      <th>preco_fidelidade</th>\n",
       "    </tr>\n",
       "  </thead>\n",
       "  <tbody>\n",
       "    <tr>\n",
       "      <th>4</th>\n",
       "      <td>2025-07-31</td>\n",
       "      <td>17.0</td>\n",
       "      <td>Agricer</td>\n",
       "      <td>Rua Izaac Ferreira da Cruz, 1440 - Pinheirinho...</td>\n",
       "      <td>1.0</td>\n",
       "      <td>7896016700149</td>\n",
       "      <td>CAFÉ A VÁCUO EXTRA FORTE -ALVORADA -500 GR</td>\n",
       "      <td>26.99</td>\n",
       "      <td>0.0</td>\n",
       "      <td>0</td>\n",
       "      <td>0.0</td>\n",
       "      <td>0.0</td>\n",
       "    </tr>\n",
       "    <tr>\n",
       "      <th>11</th>\n",
       "      <td>2025-07-31</td>\n",
       "      <td>17.0</td>\n",
       "      <td>Agricer</td>\n",
       "      <td>Rua Izaac Ferreira da Cruz, 1440 - Pinheirinho...</td>\n",
       "      <td>1.0</td>\n",
       "      <td>111134</td>\n",
       "      <td>CAFÉ A VÁCUO -( + ) BARATO -500 GR</td>\n",
       "      <td>26.99</td>\n",
       "      <td>0.0</td>\n",
       "      <td>0</td>\n",
       "      <td>0.0</td>\n",
       "      <td>0.0</td>\n",
       "    </tr>\n",
       "  </tbody>\n",
       "</table>\n",
       "</div>"
      ],
      "text/plain": [
       "   data_pesquisa  id_empresa     rede  \\\n",
       "4     2025-07-31        17.0  Agricer   \n",
       "11    2025-07-31        17.0  Agricer   \n",
       "\n",
       "                                    endereco_completo  codigo_categoria  \\\n",
       "4   Rua Izaac Ferreira da Cruz, 1440 - Pinheirinho...               1.0   \n",
       "11  Rua Izaac Ferreira da Cruz, 1440 - Pinheirinho...               1.0   \n",
       "\n",
       "       id_produto                                   descricao  preco_regular  \\\n",
       "4   7896016700149  CAFÉ A VÁCUO EXTRA FORTE -ALVORADA -500 GR          26.99   \n",
       "11         111134          CAFÉ A VÁCUO -( + ) BARATO -500 GR          26.99   \n",
       "\n",
       "    preco_atacado  preco_atacado_qtd  preco_promocao  preco_fidelidade  \n",
       "4             0.0                  0             0.0               0.0  \n",
       "11            0.0                  0             0.0               0.0  "
      ]
     },
     "execution_count": 23,
     "metadata": {},
     "output_type": "execute_result"
    }
   ],
   "source": [
    "df[df['descricao'].str.contains('CAFÉ', na=False)].head(2)"
   ]
  }
 ],
 "metadata": {
  "kernelspec": {
   "display_name": "Python 3",
   "language": "python",
   "name": "python3"
  },
  "language_info": {
   "codemirror_mode": {
    "name": "ipython",
    "version": 3
   },
   "file_extension": ".py",
   "mimetype": "text/x-python",
   "name": "python",
   "nbconvert_exporter": "python",
   "pygments_lexer": "ipython3",
   "version": "3.12.3"
  }
 },
 "nbformat": 4,
 "nbformat_minor": 5
}
